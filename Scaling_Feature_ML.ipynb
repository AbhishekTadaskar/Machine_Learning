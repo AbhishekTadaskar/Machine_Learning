{
  "nbformat": 4,
  "nbformat_minor": 0,
  "metadata": {
    "colab": {
      "provenance": []
    },
    "kernelspec": {
      "name": "python3",
      "display_name": "Python 3"
    },
    "language_info": {
      "name": "python"
    }
  },
  "cells": [
    {
      "cell_type": "code",
      "source": [
        "# all_scalers_model_with_accuracy\n",
        "# Compare multiple scaling techniques on a regression model\n",
        "\n",
        "import pandas as pd\n",
        "import numpy as np\n",
        "from sklearn.datasets import fetch_california_housing\n",
        "from sklearn.model_selection import train_test_split\n",
        "from sklearn.linear_model import LinearRegression\n",
        "from sklearn.preprocessing import (\n",
        "    MinMaxScaler, StandardScaler, MaxAbsScaler, RobustScaler,\n",
        "    Normalizer, PowerTransformer, QuantileTransformer, FunctionTransformer\n",
        ")\n",
        "from sklearn.metrics import r2_score, mean_squared_error\n",
        "\n",
        "# 1. Load dataset\n",
        "data = fetch_california_housing(as_frame=True)\n",
        "X = data.data\n",
        "y = data.target\n",
        "\n",
        "# 2. Train-test split\n",
        "X_train, X_test, y_train, y_test = train_test_split(\n",
        "    X, y, test_size=0.2, random_state=42\n",
        ")\n",
        "\n",
        "# Precompute variance of target for accuracy formula\n",
        "y_var = np.var(y_test)\n",
        "\n",
        "# 3. Define scalers\n",
        "scalers = {\n",
        "    \"MinMaxScaler\": MinMaxScaler(),\n",
        "    \"StandardScaler\": StandardScaler(),\n",
        "    \"MaxAbsScaler\": MaxAbsScaler(),\n",
        "    \"RobustScaler\": RobustScaler(),\n",
        "    \"Normalizer (L2)\": Normalizer(norm=\"l2\"),\n",
        "    \"Log Transformation\": FunctionTransformer(\n",
        "        lambda x: np.log1p(np.maximum(x, 0))\n",
        "    ),\n",
        "    \"PowerTransformer (Yeo-Johnson)\": PowerTransformer(method=\"yeo-johnson\"),\n",
        "    \"QuantileTransformer (Normal)\": QuantileTransformer(output_distribution=\"normal\", random_state=42)\n",
        "}\n",
        "\n",
        "results = []\n",
        "\n",
        "# 4. Train model for each scaler\n",
        "for name, scaler in scalers.items():\n",
        "    try:\n",
        "        # Fit scaler only on training data\n",
        "        X_train_scaled = scaler.fit_transform(X_train)\n",
        "        X_test_scaled = scaler.transform(X_test)\n",
        "\n",
        "        # Train linear regression\n",
        "        model = LinearRegression()\n",
        "        model.fit(X_train_scaled, y_train)\n",
        "\n",
        "        # Predict and evaluate\n",
        "        y_pred = model.predict(X_test_scaled)\n",
        "        r2 = r2_score(y_test, y_pred)\n",
        "        mse = mean_squared_error(y_test, y_pred)\n",
        "\n",
        "        # Accuracy as 1 - (MSE / Variance of y)\n",
        "        accuracy = max(0, 1 - (mse / y_var)) * 100\n",
        "\n",
        "        results.append({\n",
        "            \"Scaler\": name,\n",
        "            \"R2 Score\": round(r2, 4),\n",
        "            \"MSE\": round(mse, 4),\n",
        "            \"Accuracy (%)\": round(accuracy, 2)\n",
        "        })\n",
        "    except Exception as e:\n",
        "        results.append({\n",
        "            \"Scaler\": name,\n",
        "            \"R2 Score\": None,\n",
        "            \"MSE\": None,\n",
        "            \"Accuracy (%)\": None,\n",
        "            \"Error\": str(e)\n",
        "        })\n",
        "\n",
        "# 5. Convert to DataFrame\n",
        "results_df = pd.DataFrame(results)\n",
        "\n",
        "# 6. Display results\n",
        "print(\"\\n📊 Results of Different Scaling Techniques:\\n\")\n",
        "print(results_df)\n"
      ],
      "metadata": {
        "colab": {
          "base_uri": "https://localhost:8080/"
        },
        "id": "zJj3grAw9kiz",
        "outputId": "31cce7d2-10e7-4045-d5c1-f374ffebfd0e"
      },
      "execution_count": 5,
      "outputs": [
        {
          "output_type": "stream",
          "name": "stdout",
          "text": [
            "\n",
            "📊 Results of Different Scaling Techniques:\n",
            "\n",
            "                           Scaler  R2 Score     MSE  Accuracy (%)\n",
            "0                    MinMaxScaler    0.5758  0.5559         57.58\n",
            "1                  StandardScaler    0.5758  0.5559         57.58\n",
            "2                    MaxAbsScaler    0.5758  0.5559         57.58\n",
            "3                    RobustScaler    0.5758  0.5559         57.58\n",
            "4                 Normalizer (L2)    0.2523  0.9798         25.23\n",
            "5              Log Transformation    0.5545  0.5837         55.45\n",
            "6  PowerTransformer (Yeo-Johnson)    0.5613  0.5749         56.13\n",
            "7    QuantileTransformer (Normal)    0.5913  0.5356         59.13\n"
          ]
        }
      ]
    },
    {
      "cell_type": "code",
      "source": [],
      "metadata": {
        "id": "S9p-Iblt_Gj8"
      },
      "execution_count": null,
      "outputs": []
    }
  ]
}